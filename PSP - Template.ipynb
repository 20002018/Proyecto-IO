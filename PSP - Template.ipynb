{
 "cells": [
  {
   "cell_type": "markdown",
   "metadata": {},
   "source": [
    "###### SECCIÓN: 3\n",
    "###### GRUPO N.:\n",
    "###### INTEGRANTES: \n",
    "Arias Valeria ,Calleja Angel \n",
    ",Conislla Diego,  \n",
    "García Santiago"
   ]
  },
  {
   "cell_type": "markdown",
   "metadata": {},
   "source": [
    "# Instrucciones\n",
    "\n",
    "1. El template se divide en dos secciones: \n",
    "    - **FUNCIONES:** Exclusivamente para los algoritmos/procedimientos. Todo el código escrito debe estar entre los keywords \"function\" y \"end\". No imprimir nada acá. \n",
    "    \n",
    "    - **MAIN:** Exclusivamente para utilizar las funciones creadas. No debe haber ningún algoritmo/procedimiento lógico acá. Es como un resumen, donde se muestran los inputs y los outputs/resultados.\n",
    "    \n",
    "2. Haz comentarios en las líneas de código y breves explicaciones en Markdown de cada una de las funciones.\n",
    "\n",
    "TODOS los archivos enviados deben tener como nombre: “PSP - *Sección* - *ApellidosIntegrantes*”"
   ]
  },
  {
   "cell_type": "code",
   "execution_count": 2,
   "metadata": {},
   "outputs": [],
   "source": []
  },
  {
   "cell_type": "markdown",
   "metadata": {},
   "source": [
    "# FUNCIONES\n",
    "\n",
    "Esta es la sección \"lógica\" del proyecto. **No deben imprimir nada, simplemente desarrollar los algoritmos que serán luego invocadas en la sección MAIN**\n",
    "\n",
    "Recomendación: `Corten` al máximo el código. Es decir, en lugar de hacer una función larga, hagan 2 o 3 funciones cortas. Esto les ayudará a identificar los errores que tengan a lo largo del código. **Un buen indicador de longitud es 15 líneas por función máximo**.\n",
    "\n",
    "El objetivo es que en la sección `Utils` esté la mayor cantidad de funciones; por otro lado, en las secciones Funcion objetivo, Heuristico de construcción y siguientes lo ideal es que solo tenga de 1 a 3 funciones como máximo."
   ]
  },
  {
   "cell_type": "markdown",
   "metadata": {},
   "source": [
    "### Utils\n",
    "\n",
    "Son funciones utiles, pero no las principales del proceso. Por ejemplo: ordenarActividades() o encontrarVecino()"
   ]
  },
  {
   "cell_type": "code",
   "execution_count": null,
   "metadata": {},
   "outputs": [],
   "source": [
    "function ordenarActividades()\n",
    "    # escribir mi primera funcion util\n",
    "end"
   ]
  },
  {
   "cell_type": "markdown",
   "metadata": {},
   "source": [
    "### Funcion objetivo\n",
    "\n",
    "... explicación ..."
   ]
  },
  {
   "cell_type": "code",
   "execution_count": null,
   "metadata": {},
   "outputs": [],
   "source": [
    "function costoTotal()\n",
    "    # escribir la logica que determina la calidad de una solución\n",
    "end"
   ]
  },
  {
   "cell_type": "markdown",
   "metadata": {},
   "source": [
    "### Heurístico de construccion\n",
    "\n",
    "... explicación ..."
   ]
  },
  {
   "cell_type": "code",
   "execution_count": null,
   "metadata": {},
   "outputs": [],
   "source": [
    "function solucionInicial()\n",
    "    # escribir la logica para construir una solucion inicial \n",
    "end"
   ]
  },
  {
   "cell_type": "markdown",
   "metadata": {},
   "source": [
    "### Generación de vecindad(es)\n",
    "\n",
    "... explicación ..."
   ]
  },
  {
   "cell_type": "code",
   "execution_count": null,
   "metadata": {},
   "outputs": [],
   "source": [
    "function generarVecinos()\n",
    "    # escribir la logica para generar vecinos\n",
    "end"
   ]
  },
  {
   "cell_type": "markdown",
   "metadata": {},
   "source": [
    "### Heurístico de mejoramiento\n",
    "\n",
    "... explicación ..."
   ]
  },
  {
   "cell_type": "code",
   "execution_count": null,
   "metadata": {},
   "outputs": [],
   "source": [
    "function mejorarSolucion()\n",
    "    # escribir la logica para mejorar iterativamente las soluciones\n",
    "end"
   ]
  },
  {
   "cell_type": "markdown",
   "metadata": {},
   "source": [
    "### Funciones de penalidad\n",
    "\n",
    "... explicación ..."
   ]
  },
  {
   "cell_type": "code",
   "execution_count": null,
   "metadata": {},
   "outputs": [],
   "source": [
    "function penalidad()\n",
    "    # escribir la logica para penalizar la funcion objetivo\n",
    "end"
   ]
  },
  {
   "cell_type": "code",
   "execution_count": null,
   "metadata": {},
   "outputs": [],
   "source": []
  },
  {
   "cell_type": "markdown",
   "metadata": {},
   "source": [
    "# MAIN\n",
    "\n",
    "En esta sección, deberán exclusivamente **utilizar** sus funciones. Muestren los inputs y resultados!"
   ]
  },
  {
   "cell_type": "markdown",
   "metadata": {},
   "source": [
    "### Packages\n",
    "\n",
    "Recomendación: Los packages deben ser agregados desde el Terminal/CMD (solo una vez). Esta sección es solo para importarlos."
   ]
  },
  {
   "cell_type": "code",
   "execution_count": 6,
   "metadata": {},
   "outputs": [],
   "source": [
    "using CSV\n",
    "using DataFrames"
   ]
  },
  {
   "cell_type": "markdown",
   "metadata": {},
   "source": [
    "### Importar CSV"
   ]
  },
  {
   "cell_type": "code",
   "execution_count": 7,
   "metadata": {},
   "outputs": [
    {
     "data": {
      "text/html": [
       "<table class=\"data-frame\"><thead><tr><th></th><th>Nombre</th><th>Sueldo_Mensual</th><th>Hora_Extra</th><th>Dominio_Picking</th><th>Dominio_Calidad</th></tr><tr><th></th><th>String</th><th>Int64</th><th>Int64</th><th>Int64</th><th>Int64</th></tr></thead><tbody><p>99 rows × 7 columns (omitted printing of 2 columns)</p><tr><th>1</th><td>Gary Dicarlo</td><td>3569</td><td>33</td><td>3</td><td>3</td></tr><tr><th>2</th><td>Eugene Phifer</td><td>2329</td><td>22</td><td>1</td><td>1</td></tr><tr><th>3</th><td>William Walters</td><td>1775</td><td>17</td><td>0</td><td>1</td></tr><tr><th>4</th><td>Mark Gerhardt</td><td>2054</td><td>19</td><td>0</td><td>2</td></tr><tr><th>5</th><td>James Oshea</td><td>1760</td><td>16</td><td>2</td><td>1</td></tr><tr><th>6</th><td>Mark Nooner</td><td>2032</td><td>19</td><td>0</td><td>3</td></tr><tr><th>7</th><td>Barbara Williams</td><td>2938</td><td>28</td><td>2</td><td>2</td></tr><tr><th>8</th><td>Allyson Teal</td><td>2152</td><td>20</td><td>3</td><td>0</td></tr><tr><th>9</th><td>Gene Morales</td><td>2624</td><td>25</td><td>1</td><td>3</td></tr><tr><th>10</th><td>Joseph Davis</td><td>2648</td><td>25</td><td>2</td><td>3</td></tr><tr><th>11</th><td>Brett Lundberg</td><td>3265</td><td>31</td><td>3</td><td>3</td></tr><tr><th>12</th><td>Nichole Hoskins</td><td>2676</td><td>25</td><td>3</td><td>3</td></tr><tr><th>13</th><td>Julian Smith</td><td>2528</td><td>24</td><td>2</td><td>1</td></tr><tr><th>14</th><td>Sharon Fallon</td><td>2237</td><td>21</td><td>2</td><td>3</td></tr><tr><th>15</th><td>James Martinez</td><td>3601</td><td>34</td><td>3</td><td>3</td></tr><tr><th>16</th><td>Shaquita Davis</td><td>2498</td><td>23</td><td>1</td><td>3</td></tr><tr><th>17</th><td>Kyle White</td><td>2153</td><td>20</td><td>3</td><td>1</td></tr><tr><th>18</th><td>Loyce Harvey</td><td>2928</td><td>27</td><td>3</td><td>2</td></tr><tr><th>19</th><td>Keneth Latta</td><td>2433</td><td>23</td><td>2</td><td>2</td></tr><tr><th>20</th><td>Gloria Fahey</td><td>2071</td><td>19</td><td>1</td><td>1</td></tr><tr><th>21</th><td>Andrea Trudnowski</td><td>1910</td><td>18</td><td>3</td><td>0</td></tr><tr><th>22</th><td>Jose Smith</td><td>2457</td><td>23</td><td>0</td><td>3</td></tr><tr><th>23</th><td>Thomas Blankenship</td><td>2635</td><td>25</td><td>1</td><td>3</td></tr><tr><th>24</th><td>Joshua Naylor</td><td>1919</td><td>18</td><td>2</td><td>0</td></tr><tr><th>25</th><td>Sherry Buie</td><td>2632</td><td>25</td><td>3</td><td>2</td></tr><tr><th>26</th><td>Tom Johnston</td><td>2051</td><td>19</td><td>2</td><td>1</td></tr><tr><th>27</th><td>Carmen Adames</td><td>2966</td><td>28</td><td>2</td><td>2</td></tr><tr><th>28</th><td>Judith Diamond</td><td>1807</td><td>17</td><td>3</td><td>0</td></tr><tr><th>29</th><td>Mathew Smitherman</td><td>1840</td><td>17</td><td>0</td><td>1</td></tr><tr><th>30</th><td>Peter Stinett</td><td>2216</td><td>21</td><td>0</td><td>2</td></tr><tr><th>&vellip;</th><td>&vellip;</td><td>&vellip;</td><td>&vellip;</td><td>&vellip;</td><td>&vellip;</td></tr></tbody></table>"
      ],
      "text/latex": [
       "\\begin{tabular}{r|cccccc}\n",
       "\t& Nombre & Sueldo\\_Mensual & Hora\\_Extra & Dominio\\_Picking & Dominio\\_Calidad & \\\\\n",
       "\t\\hline\n",
       "\t& String & Int64 & Int64 & Int64 & Int64 & \\\\\n",
       "\t\\hline\n",
       "\t1 & Gary Dicarlo & 3569 & 33 & 3 & 3 & $\\dots$ \\\\\n",
       "\t2 & Eugene Phifer & 2329 & 22 & 1 & 1 & $\\dots$ \\\\\n",
       "\t3 & William Walters & 1775 & 17 & 0 & 1 & $\\dots$ \\\\\n",
       "\t4 & Mark Gerhardt & 2054 & 19 & 0 & 2 & $\\dots$ \\\\\n",
       "\t5 & James Oshea & 1760 & 16 & 2 & 1 & $\\dots$ \\\\\n",
       "\t6 & Mark Nooner & 2032 & 19 & 0 & 3 & $\\dots$ \\\\\n",
       "\t7 & Barbara Williams & 2938 & 28 & 2 & 2 & $\\dots$ \\\\\n",
       "\t8 & Allyson Teal & 2152 & 20 & 3 & 0 & $\\dots$ \\\\\n",
       "\t9 & Gene Morales & 2624 & 25 & 1 & 3 & $\\dots$ \\\\\n",
       "\t10 & Joseph Davis & 2648 & 25 & 2 & 3 & $\\dots$ \\\\\n",
       "\t11 & Brett Lundberg & 3265 & 31 & 3 & 3 & $\\dots$ \\\\\n",
       "\t12 & Nichole Hoskins & 2676 & 25 & 3 & 3 & $\\dots$ \\\\\n",
       "\t13 & Julian Smith & 2528 & 24 & 2 & 1 & $\\dots$ \\\\\n",
       "\t14 & Sharon Fallon & 2237 & 21 & 2 & 3 & $\\dots$ \\\\\n",
       "\t15 & James Martinez & 3601 & 34 & 3 & 3 & $\\dots$ \\\\\n",
       "\t16 & Shaquita Davis & 2498 & 23 & 1 & 3 & $\\dots$ \\\\\n",
       "\t17 & Kyle White & 2153 & 20 & 3 & 1 & $\\dots$ \\\\\n",
       "\t18 & Loyce Harvey & 2928 & 27 & 3 & 2 & $\\dots$ \\\\\n",
       "\t19 & Keneth Latta & 2433 & 23 & 2 & 2 & $\\dots$ \\\\\n",
       "\t20 & Gloria Fahey & 2071 & 19 & 1 & 1 & $\\dots$ \\\\\n",
       "\t21 & Andrea Trudnowski & 1910 & 18 & 3 & 0 & $\\dots$ \\\\\n",
       "\t22 & Jose Smith & 2457 & 23 & 0 & 3 & $\\dots$ \\\\\n",
       "\t23 & Thomas Blankenship & 2635 & 25 & 1 & 3 & $\\dots$ \\\\\n",
       "\t24 & Joshua Naylor & 1919 & 18 & 2 & 0 & $\\dots$ \\\\\n",
       "\t25 & Sherry Buie & 2632 & 25 & 3 & 2 & $\\dots$ \\\\\n",
       "\t26 & Tom Johnston & 2051 & 19 & 2 & 1 & $\\dots$ \\\\\n",
       "\t27 & Carmen Adames & 2966 & 28 & 2 & 2 & $\\dots$ \\\\\n",
       "\t28 & Judith Diamond & 1807 & 17 & 3 & 0 & $\\dots$ \\\\\n",
       "\t29 & Mathew Smitherman & 1840 & 17 & 0 & 1 & $\\dots$ \\\\\n",
       "\t30 & Peter Stinett & 2216 & 21 & 0 & 2 & $\\dots$ \\\\\n",
       "\t$\\dots$ & $\\dots$ & $\\dots$ & $\\dots$ & $\\dots$ & $\\dots$ &  \\\\\n",
       "\\end{tabular}\n"
      ],
      "text/plain": [
       "99×7 DataFrame. Omitted printing of 3 columns\n",
       "│ Row │ Nombre           │ Sueldo_Mensual │ Hora_Extra │ Dominio_Picking │\n",
       "│     │ \u001b[90mString\u001b[39m           │ \u001b[90mInt64\u001b[39m          │ \u001b[90mInt64\u001b[39m      │ \u001b[90mInt64\u001b[39m           │\n",
       "├─────┼──────────────────┼────────────────┼────────────┼─────────────────┤\n",
       "│ 1   │ Gary Dicarlo     │ 3569           │ 33         │ 3               │\n",
       "│ 2   │ Eugene Phifer    │ 2329           │ 22         │ 1               │\n",
       "│ 3   │ William Walters  │ 1775           │ 17         │ 0               │\n",
       "│ 4   │ Mark Gerhardt    │ 2054           │ 19         │ 0               │\n",
       "│ 5   │ James Oshea      │ 1760           │ 16         │ 2               │\n",
       "│ 6   │ Mark Nooner      │ 2032           │ 19         │ 0               │\n",
       "│ 7   │ Barbara Williams │ 2938           │ 28         │ 2               │\n",
       "│ 8   │ Allyson Teal     │ 2152           │ 20         │ 3               │\n",
       "│ 9   │ Gene Morales     │ 2624           │ 25         │ 1               │\n",
       "│ 10  │ Joseph Davis     │ 2648           │ 25         │ 2               │\n",
       "⋮\n",
       "│ 89  │ Janet Gaines     │ 1598           │ 15         │ 1               │\n",
       "│ 90  │ Austin Wilson    │ 3042           │ 29         │ 2               │\n",
       "│ 91  │ John Shivers     │ 1700           │ 16         │ 1               │\n",
       "│ 92  │ Alice Allen      │ 2854           │ 27         │ 1               │\n",
       "│ 93  │ Rachele Whiting  │ 2403           │ 23         │ 0               │\n",
       "│ 94  │ Ashley Maldonado │ 2435           │ 23         │ 2               │\n",
       "│ 95  │ Thomas Caron     │ 1805           │ 17         │ 3               │\n",
       "│ 96  │ Angela Alexander │ 1798           │ 17         │ 1               │\n",
       "│ 97  │ Antonio Stanford │ 1412           │ 13         │ 0               │\n",
       "│ 98  │ Jean Harsh       │ 3222           │ 30         │ 3               │\n",
       "│ 99  │ Timothy Dean     │ 2325           │ 22         │ 0               │"
      ]
     },
     "execution_count": 7,
     "metadata": {},
     "output_type": "execute_result"
    }
   ],
   "source": [
    "Turnos=CSV.read(\"Demanda.csv\")\n",
    "Trabajadores=CSV.read(\"Trabajadores.csv\")"
   ]
  },
  {
   "cell_type": "markdown",
   "metadata": {},
   "source": [
    "### Estructuras de datos"
   ]
  },
  {
   "cell_type": "code",
   "execution_count": 20,
   "metadata": {},
   "outputs": [],
   "source": [
    "#Estructura de datos de trabajador\n",
    "mutable struct trabajador\n",
    "    nombre::String\n",
    "    sueldo::Float64\n",
    "    horario_extra::Int64\n",
    "    skill_dominio::Dict{String,Int64}\n",
    "    preferencia::String\n",
    "    prioridad::Int64\n",
    "    trabajador_asignado::Array{Int64,1}\n",
    "end\n",
    "trabajadores=trabajador[]\n",
    "array=[]\n",
    "turnos_mes=336 \n",
    "for j in 1:turnos_mes\n",
    "    new_array=push!(array,j)\n",
    "    new_array[j]=0\n",
    "    end\n",
    "for i in 1:nrow(Trabajadores)\n",
    "    skill=Dict(\"Picking\"=>Trabajadores[i,:Dominio_Picking],\"Calidad\"=>Trabajadores[i,:Dominio_Calidad])\n",
    "   atributos_trabajador=trabajador(Trabajadores[i,:Nombre],Trabajadores[i,:Sueldo_Mensual],Trabajadores[i,:Hora_Extra],skill,Trabajadores[i,:Preferencias],Trabajadores[i,:Prioridad],\n",
    "   array)\n",
    "    \n",
    "    push!(trabajadores,atributos_trabajador)\n",
    "    \n",
    "end"
   ]
  },
  {
   "cell_type": "markdown",
   "metadata": {},
   "source": [
    "### Utilizar  funciones"
   ]
  },
  {
   "cell_type": "code",
   "execution_count": null,
   "metadata": {},
   "outputs": [],
   "source": [
    "mutable struct Turnos\n",
    "    \n",
    "end\n",
    "    "
   ]
  },
  {
   "cell_type": "markdown",
   "metadata": {},
   "source": [
    "### Imprimir resultados / graficas"
   ]
  },
  {
   "cell_type": "code",
   "execution_count": 14,
   "metadata": {},
   "outputs": [],
   "source": [
    "\n"
   ]
  },
  {
   "cell_type": "markdown",
   "metadata": {},
   "source": [
    "### Interpretar resultados"
   ]
  },
  {
   "cell_type": "code",
   "execution_count": null,
   "metadata": {},
   "outputs": [],
   "source": []
  },
  {
   "cell_type": "code",
   "execution_count": null,
   "metadata": {},
   "outputs": [],
   "source": []
  }
 ],
 "metadata": {
  "kernelspec": {
   "display_name": "Julia 1.3.1",
   "language": "julia",
   "name": "julia-1.3"
  },
  "language_info": {
   "file_extension": ".jl",
   "mimetype": "application/julia",
   "name": "julia",
   "version": "1.3.1"
  }
 },
 "nbformat": 4,
 "nbformat_minor": 4
}
